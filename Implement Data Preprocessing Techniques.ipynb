import pandas as pd
import numpy as np
from sklearn.preprocessing import MinMaxScaler


data = {
    'Age': [25, 30, np.nan, 35, 40],
    'Salary': [50000, 60000, 55000, np.nan, 65000],
    'Score': [90, 85, 88, 75, np.nan]
}

df = pd.DataFrame(data)

print("Original Data:")
print(df)


df['Age'] = df['Age'].fillna(df['Age'].mean())
df['Salary'] = df['Salary'].fillna(df['Salary'].median())
df['Score'] = df['Score'].fillna(df['Score'].mode()[0])

print("\nData After Handling Missing Values:")
print(df)

#creates a DataFrame with missing values, fills them using mean, median, and mode, 
#then applies Min-Max normalization using MinMaxScaler from scikit-learn to scale 
#all features between 0 and 1, preparing data for machine learning.
scaler = MinMaxScaler()
df_normalized = pd.DataFrame(scaler.fit_transform(df), columns=df.columns)

print("\nNormalized Data:")
print(df_normalized)
