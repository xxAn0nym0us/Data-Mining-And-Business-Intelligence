{
 "cells": [
  {
   "cell_type": "code",
   "execution_count": 10,
   "id": "a0d6f260-974d-47c0-85d8-2e5974eea8ff",
   "metadata": {},
   "outputs": [
    {
     "name": "stdout",
     "output_type": "stream",
     "text": [
      "Transaction Data (Boolean):\n",
      "      Milk  Bread  Butter    Jam\n",
      "TID                             \n",
      "1     True   True   False   True\n",
      "2    False   True    True  False\n",
      "3     True  False    True  False\n",
      "4     True   True    True  False\n",
      "5    False   True   False   True\n",
      "\n",
      "Frequent Itemsets:\n",
      "   support         itemsets\n",
      "0      0.6           (Milk)\n",
      "1      0.8          (Bread)\n",
      "2      0.6         (Butter)\n",
      "3      0.4            (Jam)\n",
      "4      0.4    (Milk, Bread)\n",
      "5      0.4   (Milk, Butter)\n",
      "6      0.4  (Butter, Bread)\n",
      "7      0.4     (Jam, Bread)\n",
      "\n",
      "Association Rules:\n",
      "  antecedents consequents  antecedent support  consequent support  support  \\\n",
      "0      (Milk)     (Bread)                 0.6                 0.8      0.4   \n",
      "1      (Milk)    (Butter)                 0.6                 0.6      0.4   \n",
      "2    (Butter)      (Milk)                 0.6                 0.6      0.4   \n",
      "3    (Butter)     (Bread)                 0.6                 0.8      0.4   \n",
      "4       (Jam)     (Bread)                 0.4                 0.8      0.4   \n",
      "\n",
      "   confidence      lift  representativity  leverage  conviction  \\\n",
      "0    0.666667  0.833333               1.0     -0.08         0.6   \n",
      "1    0.666667  1.111111               1.0      0.04         1.2   \n",
      "2    0.666667  1.111111               1.0      0.04         1.2   \n",
      "3    0.666667  0.833333               1.0     -0.08         0.6   \n",
      "4    1.000000  1.250000               1.0      0.08         inf   \n",
      "\n",
      "   zhangs_metric  jaccard  certainty  kulczynski  \n",
      "0      -0.333333      0.4  -0.666667    0.583333  \n",
      "1       0.250000      0.5   0.166667    0.666667  \n",
      "2       0.250000      0.5   0.166667    0.666667  \n",
      "3      -0.333333      0.4  -0.666667    0.583333  \n",
      "4       0.333333      0.5   1.000000    0.750000  \n"
     ]
    }
   ],
   "source": [
    "import pandas as pd\n",
    "from mlxtend.frequent_patterns import apriori, association_rules\n",
    "\n",
    "# Sample Dataset\n",
    "data = {\n",
    "    'TID': [1, 2, 3, 4, 5],\n",
    "    'Milk': [1, 0, 1, 1, 0],\n",
    "    'Bread': [1, 1, 0, 1, 1],\n",
    "    'Butter': [0, 1, 1, 1, 0],\n",
    "    'Jam': [1, 0, 0, 0, 1]\n",
    "}\n",
    "\n",
    "df = pd.DataFrame(data).set_index('TID')\n",
    "\n",
    "# Convert to boolean type as required by mlxtend\n",
    "df_bool = df.astype(bool)\n",
    "\n",
    "print(\"Transaction Data (Boolean):\")\n",
    "print(df_bool)\n",
    "\n",
    "# Apriori and association rules\n",
    "min_support = 0.4\n",
    "frequent_itemsets = apriori(df_bool, min_support=min_support, use_colnames=True)\n",
    "print(\"\\nFrequent Itemsets:\")\n",
    "print(frequent_itemsets)\n",
    "\n",
    "min_confidence = 0.6\n",
    "rules = association_rules(frequent_itemsets, metric=\"confidence\", min_threshold=min_confidence)\n",
    "print(\"\\nAssociation Rules:\")\n",
    "print(rules)\n"
   ]
  },
  {
   "cell_type": "code",
   "execution_count": null,
   "id": "c3175ea5-db2f-4db8-bbef-9ff1ca00d549",
   "metadata": {},
   "outputs": [],
   "source": []
  }
 ],
 "metadata": {
  "kernelspec": {
   "display_name": "Python [conda env:base] *",
   "language": "python",
   "name": "conda-base-py"
  },
  "language_info": {
   "codemirror_mode": {
    "name": "ipython",
    "version": 3
   },
   "file_extension": ".py",
   "mimetype": "text/x-python",
   "name": "python",
   "nbconvert_exporter": "python",
   "pygments_lexer": "ipython3",
   "version": "3.12.7"
  }
 },
 "nbformat": 4,
 "nbformat_minor": 5
}
